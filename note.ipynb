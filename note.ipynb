{
 "cells": [
  {
   "cell_type": "code",
   "execution_count": 4,
   "metadata": {},
   "outputs": [],
   "source": [
    "from dotenv import load_dotenv\n",
    "import os\n",
    "import base64\n",
    "import json\n",
    "from requests import post,get\n",
    "import pprint\n",
    "\n",
    "printer = pprint.PrettyPrinter()\n",
    "\n",
    "load_dotenv()\n",
    "\n",
    "client_id = os.getenv(\"CLIENT_ID\")\n",
    "client_secret = os.getenv(\"CLIENT_SECRET\")"
   ]
  },
  {
   "attachments": {},
   "cell_type": "markdown",
   "metadata": {},
   "source": [
    "### Get Token"
   ]
  },
  {
   "cell_type": "code",
   "execution_count": 3,
   "metadata": {},
   "outputs": [],
   "source": [
    "def get_token():\n",
    "    auth_string = client_id+\":\"+client_secret\n",
    "    auth_bytes = auth_string.encode(\"utf-8\")\n",
    "    auth_base64 = str(base64.b64encode(auth_bytes),\"utf-8\")\n",
    "\n",
    "    url = \"https://accounts.spotify.com/api/token\"\n",
    "\n",
    "    headers = {\n",
    "        \"Authorization\": \"Basic \"+ auth_base64,\n",
    "        \"Content-Type\": \"application/x-www-form-urlencoded\"\n",
    "    }\n",
    "\n",
    "    data = {\"grant_type\": \"client_credentials\"}\n",
    "\n",
    "    result = post(url, headers = headers, data = data) # send a post request to the server, return the \n",
    "    json_result = json.loads(result.content)\n",
    "    token = json_result[\"access_token\"]\n",
    "\n",
    "    return token\n",
    "\n",
    "def get_auth_header(token):\n",
    "    return {\"Authorization\":\"Bearer \"+token}\n"
   ]
  },
  {
   "attachments": {},
   "cell_type": "markdown",
   "metadata": {},
   "source": [
    "### Search for artist"
   ]
  },
  {
   "cell_type": "code",
   "execution_count": 78,
   "metadata": {},
   "outputs": [],
   "source": [
    "# list out 5 artists\n",
    "# artist:{\"name\",\"popularity\",\"id\",\"external_urls\"}\n",
    "\n",
    "def search_for_artist(token, artist_name):\n",
    "    url = \"https://api.spotify.com/v1/search\"\n",
    "    headers = get_auth_header(token)\n",
    "    query = f\"?q={artist_name}&type=artist&limit=5\" # artist name, type*, limit \n",
    "\n",
    "    query_url = url + query\n",
    "    result = get(query_url, headers = headers)\n",
    "    json_result = json.loads(result.content)[\"artists\"][\"items\"]\n",
    "\n",
    "    if len(json_result) == 0:\n",
    "        print(\"No artist with this name exists...\")\n",
    "        return None\n",
    "    \n",
    "    print(\"The results of searching artist: \")\n",
    "    for i,artist in enumerate(json_result):\n",
    "        # popularity = artist[\"popularity\"]\n",
    "        name = artist[\"name\"]\n",
    "        print(f\"{i+1}. {name}\")\n",
    "    \n",
    "    return json_result"
   ]
  },
  {
   "attachments": {},
   "cell_type": "markdown",
   "metadata": {},
   "source": [
    "### Search for track"
   ]
  },
  {
   "cell_type": "code",
   "execution_count": 79,
   "metadata": {},
   "outputs": [],
   "source": [
    "# list out 5 tracks\n",
    "# artist:{\"name\",\"artists\",\"popularity\",\"id\",\"external_urls\"}\n",
    "\n",
    "def search_for_track(token, track_name):\n",
    "    url = \"https://api.spotify.com/v1/search\"\n",
    "    headers = get_auth_header(token)\n",
    "    query = f\"?q={track_name}&type=track&limit=5\" # track name, type*, limit \n",
    "\n",
    "    query_url = url + query\n",
    "    result = get(query_url, headers = headers)\n",
    "    json_result = json.loads(result.content)[\"tracks\"][\"items\"]\n",
    "\n",
    "    if len(json_result) == 0:\n",
    "        print(\"No artist with this name exists...\")\n",
    "        return None\n",
    "    \n",
    "    print(\"The results of searching track: \")\n",
    "    for i,track in enumerate(json_result):\n",
    "        # popularity = track[\"popularity\"]\n",
    "        name = track[\"name\"]\n",
    "        artists = \", \".join([ artist[\"name\"] for artist in track[\"artists\"]])\n",
    "        print(f\"{i+1}. {name} - {artists}\")\n",
    "    \n",
    "    return json_result"
   ]
  },
  {
   "attachments": {},
   "cell_type": "markdown",
   "metadata": {},
   "source": [
    "### Get recommendations"
   ]
  },
  {
   "cell_type": "code",
   "execution_count": 86,
   "metadata": {},
   "outputs": [],
   "source": [
    "def get_recommedations(token, seed_artists=\"\", seed_genres=\"\", seed_tracks=\"\",limit=5 ):\n",
    "    \n",
    "    query = []  \n",
    "\n",
    "    if seed_artists:\n",
    "        query.append(f\"seed_artists={seed_artists}\")\n",
    "    if seed_genres:\n",
    "        query.append(f\"seed_genres={seed_genres}\")\n",
    "    if seed_tracks:\n",
    "        query.append(f\"seed_tracks={seed_tracks}\")\n",
    "\n",
    "    query = \"&\".join(query)\n",
    "\n",
    "    url = \"https://api.spotify.com/v1/recommendations?\"+query+f\"&limit={limit}\"\n",
    "    headers = get_auth_header(token)\n",
    "    result = get(url, headers = headers)\n",
    "    json_result = json.loads(result.content)[\"tracks\"]\n",
    "\n",
    "    \n",
    "    print(\"Your Recommendation:\")\n",
    "    for i,recom in enumerate(json_result):\n",
    "        track = recom[\"name\"]\n",
    "        artists = \", \".join([artist[\"name\"] for artist in recom[\"artists\"]])\n",
    "\n",
    "        print(f\"{i+1}. {track} - {artists}\")\n",
    "\n",
    "    return json_result"
   ]
  },
  {
   "attachments": {},
   "cell_type": "markdown",
   "metadata": {},
   "source": [
    "### Main script"
   ]
  },
  {
   "cell_type": "code",
   "execution_count": 84,
   "metadata": {},
   "outputs": [
    {
     "name": "stdout",
     "output_type": "stream",
     "text": [
      "The results of searching artist: \n",
      "1. Charlie Puth\n",
      "2. Unlike Pluto\n",
      "3. Charley Pride\n",
      "4. DNCE\n",
      "5. Charlie Pittman\n",
      "------------------------------\n",
      "Your selection is: Charlie Puth \n",
      "\n",
      "The results of searching track: \n",
      "1. See You Again (feat. Kali Uchis) - Tyler, The Creator, Kali Uchis\n",
      "2. See You Again (feat. Charlie Puth) - Wiz Khalifa, Charlie Puth\n",
      "3. See You Again - Miley Cyrus\n",
      "4. See You Again - Carrie Underwood\n",
      "5. See You Again - Wiz Khalifa, Charlie Puth\n",
      "------------------------------\n",
      "Your selection is: See You Again - Wiz Khalifa, Charlie Puth /n\n"
     ]
    }
   ],
   "source": [
    "token = get_token()\n",
    "artists = search_for_artist(token, \"Charlie Puth\")\n",
    "artist_select = int(input(\"Select an artist\"))-1 # input\n",
    "print(\"------------------------------\")\n",
    "print(f'Your selection is: {artists[artist_select][\"name\"]} \\n')\n",
    "artist_id = artists[artist_select][\"id\"]\n",
    "\n",
    "\n",
    "tracks = search_for_track(token, \"See you again\")\n",
    "track_select = int(input(\"Select a track\"))-1 # input\n",
    "print(\"------------------------------\")\n",
    "track = tracks[track_select]\n",
    "name = track[\"name\"]\n",
    "artists = \", \".join([ artist[\"name\"] for artist in track[\"artists\"]])\n",
    "print(f'Your selection is: {name} - {artists} \\n')\n",
    "track_id = track[\"id\"]\n"
   ]
  },
  {
   "cell_type": "code",
   "execution_count": 87,
   "metadata": {},
   "outputs": [
    {
     "name": "stdout",
     "output_type": "stream",
     "text": [
      "Your Recommendation:\n",
      "1. Got Me Good - DNCE\n",
      "2. Broccoli (feat. Lil Yachty) - DRAM, Lil Yachty\n",
      "3. Ill Mind of Hopsin 7 - Hopsin\n",
      "4. Party Girls - Ludacris, Wiz Khalifa, Jeremih, Cashmere Cat\n",
      "5. Satellites (feat. Wiz Khalifa) - HPG Remix - Kevin Gates, Wiz Khalifa\n"
     ]
    }
   ],
   "source": [
    "recoms = get_recommedations(token=token, seed_artists=artist_id , seed_tracks=track_id)"
   ]
  },
  {
   "cell_type": "code",
   "execution_count": null,
   "metadata": {},
   "outputs": [],
   "source": []
  }
 ],
 "metadata": {
  "kernelspec": {
   "display_name": "Python 3",
   "language": "python",
   "name": "python3"
  },
  "language_info": {
   "codemirror_mode": {
    "name": "ipython",
    "version": 3
   },
   "file_extension": ".py",
   "mimetype": "text/x-python",
   "name": "python",
   "nbconvert_exporter": "python",
   "pygments_lexer": "ipython3",
   "version": "3.10.4"
  },
  "orig_nbformat": 4,
  "vscode": {
   "interpreter": {
    "hash": "369f2c481f4da34e4445cda3fffd2e751bd1c4d706f27375911949ba6bb62e1c"
   }
  }
 },
 "nbformat": 4,
 "nbformat_minor": 2
}
