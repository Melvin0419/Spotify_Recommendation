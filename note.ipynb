{
 "cells": [
  {
   "cell_type": "code",
   "execution_count": 102,
   "metadata": {},
   "outputs": [],
   "source": [
    "from dotenv import load_dotenv\n",
    "import os\n",
    "import base64\n",
    "import json\n",
    "from requests import post,get\n",
    "\n",
    "load_dotenv()\n",
    "\n",
    "client_id = os.getenv(\"CLIENT_ID\")\n",
    "client_secret = os.getenv(\"CLIENT_SECRET\")"
   ]
  },
  {
   "attachments": {},
   "cell_type": "markdown",
   "metadata": {},
   "source": [
    "### Get Token"
   ]
  },
  {
   "cell_type": "code",
   "execution_count": 2,
   "metadata": {},
   "outputs": [],
   "source": [
    "def get_token():\n",
    "    auth_string = client_id+\":\"+client_secret\n",
    "    auth_bytes = auth_string.encode(\"utf-8\")\n",
    "    auth_base64 = str(base64.b64encode(auth_bytes),\"utf-8\")\n",
    "\n",
    "    url = \"https://accounts.spotify.com/api/token\"\n",
    "\n",
    "    headers = {\n",
    "        \"Authorization\": \"Basic \"+ auth_base64,\n",
    "        \"Content-Type\": \"application/x-www-form-urlencoded\"\n",
    "    }\n",
    "\n",
    "    data = {\"grant_type\": \"client_credentials\"}\n",
    "\n",
    "    result = post(url, headers = headers, data = data) # send a post request to the server, return the \n",
    "    json_result = json.loads(result.content)\n",
    "    token = json_result[\"access_token\"]\n",
    "\n",
    "    return token\n",
    "\n",
    "def get_auth_header(token):\n",
    "    return {\"Authorization\":\"Bearer \"+token}\n"
   ]
  },
  {
   "attachments": {},
   "cell_type": "markdown",
   "metadata": {},
   "source": [
    "### Search for artist"
   ]
  },
  {
   "cell_type": "code",
   "execution_count": 58,
   "metadata": {},
   "outputs": [],
   "source": [
    "# list out 5 artists and select one.\n",
    "# input: artist name (str)\n",
    "# output: return a dict contain{\"name\",\"url\",\"image_url\",\"id\"}\n",
    "\n",
    "\n",
    "def search_for_artist(token, artist_name):\n",
    "    url = \"https://api.spotify.com/v1/search\"\n",
    "    headers = get_auth_header(token)\n",
    "    query = f\"?q={artist_name}&type=artist&limit=5\" # artist name, type*, limit \n",
    "\n",
    "    query_url = url + query\n",
    "    result = get(query_url, headers = headers)\n",
    "    json_result = json.loads(result.content)[\"artists\"][\"items\"]\n",
    "\n",
    "    # Check if any result\n",
    "    if len(json_result) == 0:\n",
    "        print(\"No artist with this name exists...\")\n",
    "        return None\n",
    "    \n",
    "    # list out 5 results and select one \n",
    "    print(\"The results of searching artist: \")\n",
    "    for i,artist in enumerate(json_result):\n",
    "        # popularity = artist[\"popularity\"]\n",
    "        name = artist[\"name\"]\n",
    "        print(f\"{i+1}. {name}\")\n",
    "\n",
    "    idx = int(input(\"Select an artist\"))-1 # input\n",
    "    print(\"------------------------------\")\n",
    "    print(f'Your selection is: {json_result[idx][\"name\"]} \\n')\n",
    "\n",
    "    \n",
    "    artist = {\n",
    "        \"name\" : json_result[idx][\"name\"],\n",
    "        \"genres\" : json_result[idx][\"genres\"],\n",
    "        \"url\" : json_result[idx][\"external_urls\"][\"spotify\"],\n",
    "        \"image_url\" : json_result[idx][\"images\"][1][\"url\"],\n",
    "        \"id\" : json_result[idx][\"id\"]\n",
    "    }\n",
    "    \n",
    "    return artist"
   ]
  },
  {
   "attachments": {},
   "cell_type": "markdown",
   "metadata": {},
   "source": [
    "### Search for track"
   ]
  },
  {
   "cell_type": "code",
   "execution_count": 64,
   "metadata": {},
   "outputs": [],
   "source": [
    "# list out 5 tracks\n",
    "# artist:{\"name\",\"artists\",\"popularity\",\"id\",\"external_urls\"}\n",
    "\n",
    "def search_for_track(token, track_name):\n",
    "    url = \"https://api.spotify.com/v1/search\"\n",
    "    headers = get_auth_header(token)\n",
    "    query = f\"?q={track_name}&type=track&limit=5\" # track name, type*, limit \n",
    "\n",
    "    query_url = url + query\n",
    "    result = get(query_url, headers = headers)\n",
    "    json_result = json.loads(result.content)[\"tracks\"][\"items\"]\n",
    "\n",
    "    # Check if any result\n",
    "    if len(json_result) == 0:\n",
    "        print(\"No track with this name exists...\")\n",
    "        return None\n",
    "    \n",
    "    # list out 5 results and select one \n",
    "    print(\"The results of searching track: \")\n",
    "    for i,track in enumerate(json_result):\n",
    "        name = track[\"name\"]\n",
    "        artists = \", \".join([ artist[\"name\"] for artist in track[\"artists\"]])\n",
    "        print(f\"{i+1}. {name} - {artists}\")\n",
    "\n",
    "    idx = int(input(\"Select a track\"))-1 # input\n",
    "    artists = json_result[idx][\"artists\"]\n",
    "    \n",
    "    artists_name = \"、\".join([artist[\"name\"] for artist in artists])\n",
    "    track_name = json_result[idx][\"name\"]\n",
    "    \n",
    "    # form a dict storing the seletced track's info.\n",
    "    track = {\n",
    "        \"name\" :  f\"{track_name} - {artists_name}\",\n",
    "        \"url\" : json_result[idx][\"external_urls\"][\"spotify\"],\n",
    "        \"id\" : json_result[idx][\"id\"]\n",
    "    }\n",
    "\n",
    "    print(\"------------------------------\")\n",
    "    print(f'Your selection is: {track[\"name\"]} \\n')\n",
    "    \n",
    "    return track"
   ]
  },
  {
   "cell_type": "code",
   "execution_count": 93,
   "metadata": {},
   "outputs": [],
   "source": [
    "# 需要搭配 autocomplete 之類的\n",
    "\n",
    "def get_genres(token):\n",
    "    url = \"https://api.spotify.com/v1/recommendations/available-genre-seeds\"\n",
    "    headers = get_auth_header(token)\n",
    "    result = get(url, headers = headers)\n",
    "    json_result = json.loads(result.content)[\"genres\"]\n",
    "\n",
    "    # search = input(\"Search for genres\")\n",
    "    # result = []\n",
    "    # for i in json_result:\n",
    "    #     if search in i:\n",
    "    #         result.append(i)\n",
    "    # idx = input(\"Select a genre\")\n",
    "    # genre = result[idx-1]\n",
    "    # return genre\n",
    "    \n",
    "    return json_result"
   ]
  },
  {
   "attachments": {},
   "cell_type": "markdown",
   "metadata": {},
   "source": [
    "### Get recommendations"
   ]
  },
  {
   "cell_type": "code",
   "execution_count": 100,
   "metadata": {},
   "outputs": [],
   "source": [
    "def get_recommedations(token, selections,limit=5 ):\n",
    "\n",
    "    # Check selections, then create query\n",
    "    query = []\n",
    "    for seed in ['artists', 'tracks', 'genres']:\n",
    "        if len(selections[seed])>0:\n",
    "            id = \",\".join([i[\"id\"] for i in selections[seed]])\n",
    "            if seed != \"genres\":\n",
    "                query.append(f\"seed_{seed}={id}\")\n",
    "            else:\n",
    "                query.append(f\"{seed}={id}\")\n",
    "\n",
    "    querys = \"&\".join(query)\n",
    "\n",
    "    # send a GET request to endpoint\n",
    "    url = \"https://api.spotify.com/v1/recommendations?\"+querys+f\"&limit={limit}\"\n",
    "    headers = get_auth_header(token)\n",
    "    result = get(url, headers = headers)\n",
    "    json_result = json.loads(result.content)[\"tracks\"]\n",
    "\n",
    "    \n",
    "    # print out the selectoin(for user check)\n",
    "    for seed in ['artists', 'tracks', 'genres']:\n",
    "        if len(selections[seed])>0:\n",
    "            print(f\"{seed[0].upper()+seed[1:]}:\")\n",
    "            for idx,i in enumerate(selections[seed]):\n",
    "                print(f'{idx+1}. {i[\"name\"]}')\n",
    "\n",
    "    print(\"------------------------------\")\n",
    "    \n",
    "    # print out recommedations\n",
    "    print(\"Your Recommendation:\")\n",
    "    for i,recom in enumerate(json_result):\n",
    "        track = recom[\"name\"]\n",
    "        artists = \", \".join([artist[\"name\"] for artist in recom[\"artists\"]])\n",
    "\n",
    "        print(f\"{i+1}. {track} - {artists}\")\n",
    "\n",
    "    return json_result"
   ]
  },
  {
   "attachments": {},
   "cell_type": "markdown",
   "metadata": {},
   "source": [
    "### Main script"
   ]
  },
  {
   "cell_type": "code",
   "execution_count": 95,
   "metadata": {},
   "outputs": [],
   "source": [
    "token = get_token()\n",
    "selections = {\"artists\":[],\"tracks\":[],\"genres\":[]}"
   ]
  },
  {
   "cell_type": "code",
   "execution_count": 96,
   "metadata": {},
   "outputs": [
    {
     "name": "stdout",
     "output_type": "stream",
     "text": [
      "The results of searching artist: \n",
      "1. Vaundy\n",
      "2. Vantage\n",
      "3. Fujii Kaze\n",
      "4. Valntn\n",
      "5. Kenshi Yonezu\n",
      "------------------------------\n",
      "Your selection is: Vaundy \n",
      "\n",
      "The results of searching track: \n",
      "1. Yorunikakeru (Two Pianos Four Hands) - Jacob Koller, よみぃ\n",
      "2. 夜に駆ける - YOASOBI\n",
      "3. Yoruwahonoka - Eve\n",
      "4. 夜に駆ける (カバー) - オサム\n",
      "5. Yoruwahonoka - Eve\n",
      "------------------------------\n",
      "Your selection is: 夜に駆ける - YOASOBI \n",
      "\n"
     ]
    }
   ],
   "source": [
    "artist = search_for_artist(token, \"vaundy\")\n",
    "selections[\"artists\"].append(artist)\n",
    "\n",
    "track = search_for_track(token, \"yorunikakeru\")\n",
    "selections[\"tracks\"].append(track)"
   ]
  },
  {
   "cell_type": "code",
   "execution_count": 101,
   "metadata": {},
   "outputs": [
    {
     "name": "stdout",
     "output_type": "stream",
     "text": [
      "Artists:\n",
      "1. Vaundy\n",
      "Tracks:\n",
      "1. 夜に駆ける - YOASOBI\n",
      "------------------------------\n",
      "Your Recommendation:\n",
      "1. 檸檬の日々 - WurtS\n",
      "2. 六兆年と一夜物語 - Kano\n",
      "3. Ginger - TOMOO\n",
      "4. 銃の部品 - PEOPLE 1\n",
      "5. Omoideshiritori - DIALOGUE+\n"
     ]
    }
   ],
   "source": [
    "recoms = get_recommedations(token=token, selections = selections)"
   ]
  },
  {
   "cell_type": "code",
   "execution_count": null,
   "metadata": {},
   "outputs": [],
   "source": []
  }
 ],
 "metadata": {
  "kernelspec": {
   "display_name": "Python 3",
   "language": "python",
   "name": "python3"
  },
  "language_info": {
   "codemirror_mode": {
    "name": "ipython",
    "version": 3
   },
   "file_extension": ".py",
   "mimetype": "text/x-python",
   "name": "python",
   "nbconvert_exporter": "python",
   "pygments_lexer": "ipython3",
   "version": "3.10.4"
  },
  "orig_nbformat": 4,
  "vscode": {
   "interpreter": {
    "hash": "369f2c481f4da34e4445cda3fffd2e751bd1c4d706f27375911949ba6bb62e1c"
   }
  }
 },
 "nbformat": 4,
 "nbformat_minor": 2
}
